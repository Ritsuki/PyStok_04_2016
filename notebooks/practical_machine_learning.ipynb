{
 "cells": [
  {
   "cell_type": "markdown",
   "metadata": {
    "toc": "true"
   },
   "source": [
    "# Table of Contents\n",
    " <p><div class=\"lev2\"><a href=\"#Basic-CrossValidation-scoring\"><span class=\"toc-item-num\">0.1&nbsp;&nbsp;</span>Basic CrossValidation scoring</a></div><div class=\"lev2\"><a href=\"#Grid-testing\"><span class=\"toc-item-num\">0.2&nbsp;&nbsp;</span>Grid testing</a></div><div class=\"lev3\"><a href=\"#Iris\"><span class=\"toc-item-num\">0.2.1&nbsp;&nbsp;</span>Iris</a></div><div class=\"lev4\"><a href=\"#Bit-prettier-display\"><span class=\"toc-item-num\">0.2.1.1&nbsp;&nbsp;</span>Bit prettier display</a></div><div class=\"lev3\"><a href=\"#Digits\"><span class=\"toc-item-num\">0.2.2&nbsp;&nbsp;</span>Digits</a></div><div class=\"lev2\"><a href=\"#Multiple-classifiers-testing\"><span class=\"toc-item-num\">0.3&nbsp;&nbsp;</span>Multiple classifiers testing</a></div><div class=\"lev3\"><a href=\"#Iris\"><span class=\"toc-item-num\">0.3.1&nbsp;&nbsp;</span>Iris</a></div><div class=\"lev4\"><a href=\"#Parameters-of-the-best-classifier\"><span class=\"toc-item-num\">0.3.1.1&nbsp;&nbsp;</span>Parameters of the best classifier</a></div><div class=\"lev3\"><a href=\"#Digits\"><span class=\"toc-item-num\">0.3.2&nbsp;&nbsp;</span>Digits</a></div><div class=\"lev4\"><a href=\"#Parameters-of-the-best-classifier\"><span class=\"toc-item-num\">0.3.2.1&nbsp;&nbsp;</span>Parameters of the best classifier</a></div><div class=\"lev3\"><a href=\"#Results-comparison-for-both-datasets\"><span class=\"toc-item-num\">0.3.3&nbsp;&nbsp;</span>Results comparison for both datasets</a></div><div class=\"lev3\"><a href=\"#Classification-report\"><span class=\"toc-item-num\">0.3.4&nbsp;&nbsp;</span>Classification report</a></div>"
   ]
  },
  {
   "cell_type": "code",
   "execution_count": 1,
   "metadata": {
    "ExecuteTime": {
     "end_time": "2016-04-11T17:52:05.363296",
     "start_time": "2016-04-11T17:52:04.696091"
    },
    "collapsed": true
   },
   "outputs": [],
   "source": [
    "import numpy as np\n",
    "import pandas as pd\n",
    "from scipy.stats import randint\n",
    "from operator import itemgetter\n",
    "import sklearn.datasets as datasets"
   ]
  },
  {
   "cell_type": "code",
   "execution_count": 2,
   "metadata": {
    "ExecuteTime": {
     "end_time": "2016-04-11T17:52:05.499308",
     "start_time": "2016-04-11T17:52:05.364848"
    },
    "collapsed": false
   },
   "outputs": [],
   "source": [
    "iris_dataset = datasets.load_iris()\n",
    "digits_dataset = datasets.load_digits(4)"
   ]
  },
  {
   "cell_type": "code",
   "execution_count": 3,
   "metadata": {
    "ExecuteTime": {
     "end_time": "2016-04-11T17:52:05.506706",
     "start_time": "2016-04-11T17:52:05.502452"
    },
    "collapsed": false
   },
   "outputs": [
    {
     "name": "stdout",
     "output_type": "stream",
     "text": [
      "Iris Plants Database\n",
      "\n",
      "Notes\n",
      "-----\n",
      "Data Set Characteristics:\n",
      "    :Number of Instances: 150 (50 in each of three classes)\n",
      "    :Number of Attributes: 4 numeric, predictive attributes and the class\n",
      "    :Attribute Information:\n",
      "        - sepal length in cm\n",
      "        - sepal width in cm\n",
      "        - petal length in cm\n",
      "        - petal width in cm\n",
      "        - class:\n",
      "                - Iris-Setosa\n",
      "                - Iris-Versicolour\n",
      "                - Iris-Virginica\n",
      "    :Summary Statistics:\n",
      "\n",
      "    ============== ==== ==== ======= ===== ====================\n",
      "                    Min  Max   Mean    SD   Class Correlation\n",
      "    ============== ==== ==== ======= ===== ====================\n",
      "    sepal length:   4.3  7.9   5.84   0.83    0.7826\n",
      "    sepal width:    2.0  4.4   3.05   0.43   -0.4194\n",
      "    petal length:   1.0  6.9   3.76   1.76    0.9490  (high!)\n",
      "    petal width:    0.1  2.5   1.20  0.76     0.9565  (high!)\n",
      "    ============== ==== ==== ======= ===== ====================\n",
      "\n",
      "    :Missing Attribute Values: None\n",
      "    :Class Distribution: 33.3% for each of 3 classes.\n",
      "    :Creator: R.A. Fisher\n",
      "    :Donor: Michael Marshall (MARSHALL%PLU@io.arc.nasa.gov)\n",
      "    :Date: July, 1988\n",
      "\n",
      "This is a copy of UCI ML iris datasets.\n",
      "http://archive.ics.uci.edu/ml/datasets/Iris\n",
      "\n",
      "The famous Iris database, first used by Sir R.A Fisher\n",
      "\n",
      "This is perhaps the best known database to be found in the\n",
      "pattern recognition literature.  Fisher's paper is a classic in the field and\n",
      "is referenced frequently to this day.  (See Duda & Hart, for example.)  The\n",
      "data set contains 3 classes of 50 instances each, where each class refers to a\n",
      "type of iris plant.  One class is linearly separable from the other 2; the\n",
      "latter are NOT linearly separable from each other.\n",
      "\n",
      "References\n",
      "----------\n",
      "   - Fisher,R.A. \"The use of multiple measurements in taxonomic problems\"\n",
      "     Annual Eugenics, 7, Part II, 179-188 (1936); also in \"Contributions to\n",
      "     Mathematical Statistics\" (John Wiley, NY, 1950).\n",
      "   - Duda,R.O., & Hart,P.E. (1973) Pattern Classification and Scene Analysis.\n",
      "     (Q327.D83) John Wiley & Sons.  ISBN 0-471-22361-1.  See page 218.\n",
      "   - Dasarathy, B.V. (1980) \"Nosing Around the Neighborhood: A New System\n",
      "     Structure and Classification Rule for Recognition in Partially Exposed\n",
      "     Environments\".  IEEE Transactions on Pattern Analysis and Machine\n",
      "     Intelligence, Vol. PAMI-2, No. 1, 67-71.\n",
      "   - Gates, G.W. (1972) \"The Reduced Nearest Neighbor Rule\".  IEEE Transactions\n",
      "     on Information Theory, May 1972, 431-433.\n",
      "   - See also: 1988 MLC Proceedings, 54-64.  Cheeseman et al\"s AUTOCLASS II\n",
      "     conceptual clustering system finds 3 classes in the data.\n",
      "   - Many, many more ...\n",
      "\n"
     ]
    }
   ],
   "source": [
    "print(iris_dataset['DESCR'])"
   ]
  },
  {
   "cell_type": "code",
   "execution_count": 4,
   "metadata": {
    "ExecuteTime": {
     "end_time": "2016-04-11T17:52:05.617739",
     "start_time": "2016-04-11T17:52:05.509167"
    },
    "collapsed": true
   },
   "outputs": [],
   "source": [
    "from sklearn import svm, grid_search, datasets, cross_validation, metrics\n",
    "\n",
    "from sklearn.ensemble import ExtraTreesClassifier"
   ]
  },
  {
   "cell_type": "markdown",
   "metadata": {},
   "source": [
    "## Basic CrossValidation scoring"
   ]
  },
  {
   "cell_type": "code",
   "execution_count": 5,
   "metadata": {
    "ExecuteTime": {
     "end_time": "2016-04-11T17:52:05.623676",
     "start_time": "2016-04-11T17:52:05.620064"
    },
    "collapsed": true
   },
   "outputs": [],
   "source": [
    "svc = svm.SVC()\n",
    "linear_svc = svm.LinearSVC()"
   ]
  },
  {
   "cell_type": "code",
   "execution_count": 6,
   "metadata": {
    "ExecuteTime": {
     "end_time": "2016-04-11T17:52:05.646500",
     "start_time": "2016-04-11T17:52:05.626178"
    },
    "collapsed": false
   },
   "outputs": [
    {
     "data": {
      "text/plain": [
       "0.97344771241830064"
      ]
     },
     "execution_count": 6,
     "metadata": {},
     "output_type": "execute_result"
    }
   ],
   "source": [
    "cross_validation.cross_val_score(svc, iris_dataset['data'], iris_dataset['target']).mean()"
   ]
  },
  {
   "cell_type": "code",
   "execution_count": 7,
   "metadata": {
    "ExecuteTime": {
     "end_time": "2016-04-11T17:52:05.681535",
     "start_time": "2016-04-11T17:52:05.647967"
    },
    "collapsed": false
   },
   "outputs": [
    {
     "data": {
      "text/plain": [
       "0.96691176470588225"
      ]
     },
     "execution_count": 7,
     "metadata": {},
     "output_type": "execute_result"
    }
   ],
   "source": [
    "cross_validation.cross_val_score(linear_svc, iris_dataset['data'], iris_dataset['target']).mean()"
   ]
  },
  {
   "cell_type": "markdown",
   "metadata": {},
   "source": [
    "## Grid testing"
   ]
  },
  {
   "cell_type": "code",
   "execution_count": 8,
   "metadata": {
    "ExecuteTime": {
     "end_time": "2016-04-11T17:52:05.685421",
     "start_time": "2016-04-11T17:52:05.682982"
    },
    "collapsed": true
   },
   "outputs": [],
   "source": [
    "svc = svm.SVC()"
   ]
  },
  {
   "cell_type": "code",
   "execution_count": 9,
   "metadata": {
    "ExecuteTime": {
     "end_time": "2016-04-11T17:52:05.691000",
     "start_time": "2016-04-11T17:52:05.687421"
    },
    "collapsed": false
   },
   "outputs": [],
   "source": [
    "parameters = [{'kernel':['rbf'], 'C':[1e-4, 1e-3, 1e-2, 1e0, 1e1, 1e2, 1e3]},\n",
    "              {'kernel':['poly'], 'C':[1e-4, 1e-3, 1e-2, 1e0, 1e1, 1e2, 1e3], 'degree':[2,3]},\n",
    "             {'kernel':['linear'], 'C':[1e-4, 1e-3, 1e-2, 1e0, 1e1, 1e2, 1e3]}]"
   ]
  },
  {
   "cell_type": "markdown",
   "metadata": {},
   "source": [
    "### Iris"
   ]
  },
  {
   "cell_type": "code",
   "execution_count": 10,
   "metadata": {
    "ExecuteTime": {
     "end_time": "2016-04-11T17:52:05.986002",
     "start_time": "2016-04-11T17:52:05.692911"
    },
    "collapsed": false
   },
   "outputs": [
    {
     "data": {
      "text/plain": [
       "GridSearchCV(cv=None, error_score='raise',\n",
       "       estimator=SVC(C=1.0, cache_size=200, class_weight=None, coef0=0.0,\n",
       "  decision_function_shape=None, degree=3, gamma='auto', kernel='rbf',\n",
       "  max_iter=-1, probability=False, random_state=None, shrinking=True,\n",
       "  tol=0.001, verbose=False),\n",
       "       fit_params={}, iid=True, n_jobs=4,\n",
       "       param_grid=[{'C': [0.0001, 0.001, 0.01, 1.0, 10.0, 100.0, 1000.0], 'kernel': ['rbf']}, {'C': [0.0001, 0.001, 0.01, 1.0, 10.0, 100.0, 1000.0], 'degree': [2, 3], 'kernel': ['poly']}, {'C': [0.0001, 0.001, 0.01, 1.0, 10.0, 100.0, 1000.0], 'kernel': ['linear']}],\n",
       "       pre_dispatch='2*n_jobs', refit=True, scoring=None, verbose=0)"
      ]
     },
     "execution_count": 10,
     "metadata": {},
     "output_type": "execute_result"
    }
   ],
   "source": [
    "gs = grid_search.GridSearchCV(svc, parameters, n_jobs=4)\n",
    "gs.fit(iris_dataset['data'], iris_dataset['target'])"
   ]
  },
  {
   "cell_type": "code",
   "execution_count": 11,
   "metadata": {
    "ExecuteTime": {
     "end_time": "2016-04-11T17:52:05.993311",
     "start_time": "2016-04-11T17:52:05.988619"
    },
    "collapsed": false,
    "scrolled": true
   },
   "outputs": [
    {
     "data": {
      "text/plain": [
       "{'C': 10.0, 'kernel': 'rbf'}"
      ]
     },
     "execution_count": 11,
     "metadata": {},
     "output_type": "execute_result"
    }
   ],
   "source": [
    "gs.best_params_"
   ]
  },
  {
   "cell_type": "code",
   "execution_count": 12,
   "metadata": {
    "ExecuteTime": {
     "end_time": "2016-04-11T17:52:06.004465",
     "start_time": "2016-04-11T17:52:05.995538"
    },
    "collapsed": false
   },
   "outputs": [
    {
     "data": {
      "text/plain": [
       "[mean: 0.93333, std: 0.03277, params: {'C': 0.0001, 'kernel': 'rbf'},\n",
       " mean: 0.93333, std: 0.03277, params: {'C': 0.001, 'kernel': 'rbf'},\n",
       " mean: 0.93333, std: 0.03277, params: {'C': 0.01, 'kernel': 'rbf'},\n",
       " mean: 0.97333, std: 0.00897, params: {'C': 1.0, 'kernel': 'rbf'},\n",
       " mean: 0.98000, std: 0.01601, params: {'C': 10.0, 'kernel': 'rbf'},\n",
       " mean: 0.96000, std: 0.04217, params: {'C': 100.0, 'kernel': 'rbf'},\n",
       " mean: 0.95333, std: 0.03669, params: {'C': 1000.0, 'kernel': 'rbf'},\n",
       " mean: 0.86000, std: 0.00404, params: {'C': 0.0001, 'degree': 2, 'kernel': 'poly'},\n",
       " mean: 0.87333, std: 0.00809, params: {'C': 0.0001, 'degree': 3, 'kernel': 'poly'},\n",
       " mean: 0.88667, std: 0.02253, params: {'C': 0.001, 'degree': 2, 'kernel': 'poly'},\n",
       " mean: 0.96667, std: 0.01820, params: {'C': 0.001, 'degree': 3, 'kernel': 'poly'},\n",
       " mean: 0.95333, std: 0.02402, params: {'C': 0.01, 'degree': 2, 'kernel': 'poly'},\n",
       " mean: 0.97333, std: 0.02446, params: {'C': 0.01, 'degree': 3, 'kernel': 'poly'},\n",
       " mean: 0.96667, std: 0.04622, params: {'C': 1.0, 'degree': 2, 'kernel': 'poly'},\n",
       " mean: 0.96667, std: 0.04622, params: {'C': 1.0, 'degree': 3, 'kernel': 'poly'},\n",
       " mean: 0.96667, std: 0.04622, params: {'C': 10.0, 'degree': 2, 'kernel': 'poly'},\n",
       " mean: 0.96667, std: 0.04622, params: {'C': 10.0, 'degree': 3, 'kernel': 'poly'},\n",
       " mean: 0.96667, std: 0.04622, params: {'C': 100.0, 'degree': 2, 'kernel': 'poly'},\n",
       " mean: 0.96000, std: 0.04236, params: {'C': 100.0, 'degree': 3, 'kernel': 'poly'},\n",
       " mean: 0.96667, std: 0.04622, params: {'C': 1000.0, 'degree': 2, 'kernel': 'poly'},\n",
       " mean: 0.96000, std: 0.04236, params: {'C': 1000.0, 'degree': 3, 'kernel': 'poly'},\n",
       " mean: 0.91333, std: 0.01675, params: {'C': 0.0001, 'kernel': 'linear'},\n",
       " mean: 0.91333, std: 0.01675, params: {'C': 0.001, 'kernel': 'linear'},\n",
       " mean: 0.90667, std: 0.01745, params: {'C': 0.01, 'kernel': 'linear'},\n",
       " mean: 0.98000, std: 0.01602, params: {'C': 1.0, 'kernel': 'linear'},\n",
       " mean: 0.97333, std: 0.03697, params: {'C': 10.0, 'kernel': 'linear'},\n",
       " mean: 0.96667, std: 0.03317, params: {'C': 100.0, 'kernel': 'linear'},\n",
       " mean: 0.97333, std: 0.03697, params: {'C': 1000.0, 'kernel': 'linear'}]"
      ]
     },
     "execution_count": 12,
     "metadata": {},
     "output_type": "execute_result"
    }
   ],
   "source": [
    "gs.grid_scores_"
   ]
  },
  {
   "cell_type": "markdown",
   "metadata": {},
   "source": [
    "#### Bit prettier display"
   ]
  },
  {
   "cell_type": "code",
   "execution_count": 13,
   "metadata": {
    "ExecuteTime": {
     "end_time": "2016-04-11T17:52:06.015072",
     "start_time": "2016-04-11T17:52:06.006838"
    },
    "collapsed": true
   },
   "outputs": [],
   "source": [
    "# Utility function to report best scores\n",
    "def report(grid_scores, n_top=3):\n",
    "    top_scores = sorted(grid_scores, key=itemgetter(1), reverse=True)[:n_top]\n",
    "    for i, score in enumerate(top_scores):\n",
    "        print(\"Model with rank: {0}\".format(i + 1))\n",
    "        print(\"Mean validation score: {0:.5f} (std: {1:.5f})\".format(\n",
    "              score.mean_validation_score,\n",
    "              np.std(score.cv_validation_scores)))\n",
    "        print(\"Parameters: {0}\".format(score.parameters))\n",
    "        print(\"\")"
   ]
  },
  {
   "cell_type": "code",
   "execution_count": 14,
   "metadata": {
    "ExecuteTime": {
     "end_time": "2016-04-11T17:52:06.022883",
     "start_time": "2016-04-11T17:52:06.017307"
    },
    "collapsed": false
   },
   "outputs": [
    {
     "name": "stdout",
     "output_type": "stream",
     "text": [
      "Model with rank: 1\n",
      "Mean validation score: 0.98000 (std: 0.01601)\n",
      "Parameters: {'C': 10.0, 'kernel': 'rbf'}\n",
      "\n",
      "Model with rank: 2\n",
      "Mean validation score: 0.98000 (std: 0.01602)\n",
      "Parameters: {'C': 1.0, 'kernel': 'linear'}\n",
      "\n",
      "Model with rank: 3\n",
      "Mean validation score: 0.97333 (std: 0.00897)\n",
      "Parameters: {'C': 1.0, 'kernel': 'rbf'}\n",
      "\n",
      "Model with rank: 4\n",
      "Mean validation score: 0.97333 (std: 0.02446)\n",
      "Parameters: {'C': 0.01, 'degree': 3, 'kernel': 'poly'}\n",
      "\n",
      "Model with rank: 5\n",
      "Mean validation score: 0.97333 (std: 0.03697)\n",
      "Parameters: {'C': 10.0, 'kernel': 'linear'}\n",
      "\n"
     ]
    }
   ],
   "source": [
    "report(gs.grid_scores_, 5)"
   ]
  },
  {
   "cell_type": "markdown",
   "metadata": {},
   "source": [
    "### Digits"
   ]
  },
  {
   "cell_type": "code",
   "execution_count": 15,
   "metadata": {
    "ExecuteTime": {
     "end_time": "2016-04-11T17:52:06.922597",
     "start_time": "2016-04-11T17:52:06.024863"
    },
    "collapsed": false
   },
   "outputs": [
    {
     "data": {
      "text/plain": [
       "GridSearchCV(cv=None, error_score='raise',\n",
       "       estimator=SVC(C=1.0, cache_size=200, class_weight=None, coef0=0.0,\n",
       "  decision_function_shape=None, degree=3, gamma='auto', kernel='rbf',\n",
       "  max_iter=-1, probability=False, random_state=None, shrinking=True,\n",
       "  tol=0.001, verbose=False),\n",
       "       fit_params={}, iid=True, n_jobs=4,\n",
       "       param_grid=[{'C': [0.0001, 0.001, 0.01, 1.0, 10.0, 100.0, 1000.0], 'kernel': ['rbf']}, {'C': [0.0001, 0.001, 0.01, 1.0, 10.0, 100.0, 1000.0], 'degree': [2, 3], 'kernel': ['poly']}, {'C': [0.0001, 0.001, 0.01, 1.0, 10.0, 100.0, 1000.0], 'kernel': ['linear']}],\n",
       "       pre_dispatch='2*n_jobs', refit=True, scoring=None, verbose=0)"
      ]
     },
     "execution_count": 15,
     "metadata": {},
     "output_type": "execute_result"
    }
   ],
   "source": [
    "gs = grid_search.GridSearchCV(svc, parameters, n_jobs=4)\n",
    "gs.fit(digits_dataset['data'], digits_dataset['target'])"
   ]
  },
  {
   "cell_type": "code",
   "execution_count": 16,
   "metadata": {
    "ExecuteTime": {
     "end_time": "2016-04-11T17:52:06.934462",
     "start_time": "2016-04-11T17:52:06.926985"
    },
    "collapsed": false
   },
   "outputs": [
    {
     "name": "stdout",
     "output_type": "stream",
     "text": [
      "Model with rank: 1\n",
      "Mean validation score: 0.98611 (std: 0.00982)\n",
      "Parameters: {'C': 0.0001, 'degree': 3, 'kernel': 'poly'}\n",
      "\n",
      "Model with rank: 2\n",
      "Mean validation score: 0.98611 (std: 0.00982)\n",
      "Parameters: {'C': 0.001, 'degree': 2, 'kernel': 'poly'}\n",
      "\n",
      "Model with rank: 3\n",
      "Mean validation score: 0.98611 (std: 0.00982)\n",
      "Parameters: {'C': 0.001, 'degree': 3, 'kernel': 'poly'}\n",
      "\n",
      "Model with rank: 4\n",
      "Mean validation score: 0.98611 (std: 0.00982)\n",
      "Parameters: {'C': 0.01, 'degree': 3, 'kernel': 'poly'}\n",
      "\n",
      "Model with rank: 5\n",
      "Mean validation score: 0.98611 (std: 0.00982)\n",
      "Parameters: {'C': 1.0, 'degree': 3, 'kernel': 'poly'}\n",
      "\n"
     ]
    }
   ],
   "source": [
    "report(gs.grid_scores_, 5)"
   ]
  },
  {
   "cell_type": "markdown",
   "metadata": {
    "ExecuteTime": {
     "end_time": "2016-04-10T21:16:31.495158",
     "start_time": "2016-04-10T21:16:31.493586"
    }
   },
   "source": [
    "## Multiple classifiers testing"
   ]
  },
  {
   "cell_type": "code",
   "execution_count": 17,
   "metadata": {
    "ExecuteTime": {
     "end_time": "2016-04-11T17:52:07.063330",
     "start_time": "2016-04-11T17:52:06.938637"
    },
    "collapsed": true
   },
   "outputs": [],
   "source": [
    "from sklearn import ensemble, neighbors, linear_model\n",
    "from datetime import datetime"
   ]
  },
  {
   "cell_type": "code",
   "execution_count": 18,
   "metadata": {
    "ExecuteTime": {
     "end_time": "2016-04-11T17:52:07.100806",
     "start_time": "2016-04-11T17:52:07.065152"
    },
    "collapsed": false
   },
   "outputs": [],
   "source": [
    "classifiers_to_test = [\n",
    "    {\n",
    "        'name': 'SVC',\n",
    "        'classifier': svm.SVC(),\n",
    "        'parameters': [{'kernel':['rbf'], 'C':[1e-4, 1e-3, 1e-2, 1e0, 1e1, 1e2, 1e3]},\n",
    "                       {'kernel':['linear'], 'C':[1e-4, 1e-3, 1e-2, 1e0, 1e1, 1e2, 1e3]}]\n",
    "    },\n",
    "    {\n",
    "        'name': 'LinearSVC',\n",
    "        'classifier': svm.LinearSVC(),\n",
    "        'parameters': [{'max_iter':[1e3, 1e4, 1e5], 'C':[1e-4, 1e-3, 1e-2, 1e0, 1e1, 1e2, 1e3]}]\n",
    "    },\n",
    "    {\n",
    "        'name': 'ExtraTreesClassifier',\n",
    "        'classifier': ensemble.ExtraTreesClassifier(),\n",
    "        'parameters': [{'n_estimators':[5,10,20,50], 'min_samples_leaf':[1,2,4,8]}]\n",
    "    },\n",
    "    {\n",
    "        'name': 'RandomForestClassifier',\n",
    "        'classifier': ensemble.RandomForestClassifier(),\n",
    "        'parameters': [{'n_estimators':[5,10,20,50], 'min_samples_leaf':[1,2,4,8]}]\n",
    "    },\n",
    "    {\n",
    "        'name': 'KNeighborsClassifier',\n",
    "        'classifier': neighbors.KNeighborsClassifier(),\n",
    "        'parameters': [{'n_neighbors':[5,10,20], 'p':[1,2]}]\n",
    "    },\n",
    "    {\n",
    "        'name': 'LogisticRegression',\n",
    "        'classifier': linear_model.LogisticRegression(),\n",
    "        'parameters': [{'max_iter':[1e3, 1e4, 1e5], 'C':[1e-4, 1e-3, 1e-2, 1e0, 1e1, 1e2, 1e3]}]\n",
    "    }\n",
    "]"
   ]
  },
  {
   "cell_type": "markdown",
   "metadata": {},
   "source": [
    "### Iris"
   ]
  },
  {
   "cell_type": "code",
   "execution_count": 19,
   "metadata": {
    "ExecuteTime": {
     "end_time": "2016-04-11T17:52:13.153873",
     "start_time": "2016-04-11T17:52:07.103070"
    },
    "collapsed": false
   },
   "outputs": [
    {
     "name": "stdout",
     "output_type": "stream",
     "text": [
      "SVC\n",
      "score: 0.98\n",
      "time: 0:00:00.157256\n",
      "*=======================*\n",
      "LinearSVC\n",
      "score: 0.9733333333333334\n",
      "time: 0:00:03.750305\n",
      "*=======================*\n",
      "ExtraTreesClassifier\n",
      "score: 0.9666666666666667\n",
      "time: 0:00:00.901170\n",
      "*=======================*\n",
      "RandomForestClassifier\n",
      "score: 0.9666666666666667\n",
      "time: 0:00:00.891911\n",
      "*=======================*\n",
      "KNeighborsClassifier\n",
      "score: 0.9866666666666667\n",
      "time: 0:00:00.167355\n",
      "*=======================*\n",
      "LogisticRegression\n",
      "score: 0.9733333333333334\n",
      "time: 0:00:00.173360\n",
      "*=======================*\n"
     ]
    }
   ],
   "source": [
    "classifiers_results_iris = []\n",
    "X, y = iris_dataset['data'], iris_dataset['target']\n",
    "for classifier in classifiers_to_test:\n",
    "    start = datetime.now()\n",
    "    gs = grid_search.GridSearchCV(classifier['classifier'], classifier['parameters'], n_jobs=4)\n",
    "    gs.fit(X, y)\n",
    "    classifiers_results_iris.append({'name': classifier['name'], 'best_score': gs.best_score_, 'grid_search': gs})\n",
    "\n",
    "    print(\"{0}\\nscore: {1}\\ntime: {2}\\n*=======================*\".format(classifier['name'], \n",
    "                                                                         gs.best_score_, \n",
    "                                                                         (datetime.now() - start)))"
   ]
  },
  {
   "cell_type": "markdown",
   "metadata": {},
   "source": [
    "#### Parameters of the best classifier"
   ]
  },
  {
   "cell_type": "code",
   "execution_count": 20,
   "metadata": {
    "ExecuteTime": {
     "end_time": "2016-04-11T17:52:13.162831",
     "start_time": "2016-04-11T17:52:13.156437"
    },
    "collapsed": false
   },
   "outputs": [
    {
     "name": "stdout",
     "output_type": "stream",
     "text": [
      "KNeighborsClassifier\n",
      "{'p': 2, 'n_neighbors': 5}\n"
     ]
    }
   ],
   "source": [
    "classifiers_results_iris.sort(key=itemgetter('best_score'), reverse=True)\n",
    "print(classifiers_results_iris[0]['name'])\n",
    "print(classifiers_results_iris[0]['grid_search'].best_params_)"
   ]
  },
  {
   "cell_type": "code",
   "execution_count": 21,
   "metadata": {
    "ExecuteTime": {
     "end_time": "2016-04-11T17:52:13.167792",
     "start_time": "2016-04-11T17:52:13.164419"
    },
    "collapsed": false
   },
   "outputs": [
    {
     "name": "stdout",
     "output_type": "stream",
     "text": [
      "Model with rank: 1\n",
      "Mean validation score: 0.98667 (std: 0.00924)\n",
      "Parameters: {'p': 2, 'n_neighbors': 5}\n",
      "\n",
      "Model with rank: 2\n",
      "Mean validation score: 0.97333 (std: 0.00897)\n",
      "Parameters: {'p': 1, 'n_neighbors': 5}\n",
      "\n",
      "Model with rank: 3\n",
      "Mean validation score: 0.97333 (std: 0.00897)\n",
      "Parameters: {'p': 1, 'n_neighbors': 10}\n",
      "\n"
     ]
    }
   ],
   "source": [
    "report(classifiers_results_iris[0]['grid_search'].grid_scores_)"
   ]
  },
  {
   "cell_type": "markdown",
   "metadata": {
    "ExecuteTime": {
     "end_time": "2016-04-10T22:48:04.389471",
     "start_time": "2016-04-10T22:48:04.386700"
    }
   },
   "source": [
    "### Digits"
   ]
  },
  {
   "cell_type": "code",
   "execution_count": 22,
   "metadata": {
    "ExecuteTime": {
     "end_time": "2016-04-11T17:52:17.994544",
     "start_time": "2016-04-11T17:52:13.169619"
    },
    "collapsed": false
   },
   "outputs": [
    {
     "name": "stdout",
     "output_type": "stream",
     "text": [
      "SVC\n",
      "score: 0.9805555555555555\n",
      "time: 0:00:00.666699\n",
      "*=======================*\n",
      "LinearSVC\n",
      "score: 0.9736111111111111\n",
      "time: 0:00:00.774582\n",
      "*=======================*\n",
      "ExtraTreesClassifier\n",
      "score: 0.9791666666666666\n",
      "time: 0:00:01.235780\n",
      "*=======================*\n",
      "RandomForestClassifier\n",
      "score: 0.9722222222222222\n",
      "time: 0:00:01.178545\n",
      "*=======================*\n",
      "KNeighborsClassifier\n",
      "score: 0.9888888888888889\n",
      "time: 0:00:00.366008\n",
      "*=======================*\n",
      "LogisticRegression\n",
      "score: 0.9763888888888889\n",
      "time: 0:00:00.595879\n",
      "*=======================*\n"
     ]
    }
   ],
   "source": [
    "classifiers_results_digits = []\n",
    "X, y = digits_dataset['data'], digits_dataset['target']\n",
    "for classifier in classifiers_to_test:\n",
    "    start = datetime.now()\n",
    "    gs = grid_search.GridSearchCV(classifier['classifier'], classifier['parameters'], n_jobs=4)\n",
    "    gs.fit(X, y)\n",
    "    classifiers_results_digits.append({'name': classifier['name'], 'best_score': gs.best_score_, 'grid_search': gs})\n",
    "\n",
    "    print(\"{0}\\nscore: {1}\\ntime: {2}\\n*=======================*\".format(classifier['name'], \n",
    "                                                                         gs.best_score_, \n",
    "                                                                         (datetime.now() - start)))"
   ]
  },
  {
   "cell_type": "markdown",
   "metadata": {},
   "source": [
    "#### Parameters of the best classifier"
   ]
  },
  {
   "cell_type": "code",
   "execution_count": 23,
   "metadata": {
    "ExecuteTime": {
     "end_time": "2016-04-11T17:52:18.002032",
     "start_time": "2016-04-11T17:52:17.996384"
    },
    "collapsed": false
   },
   "outputs": [
    {
     "name": "stdout",
     "output_type": "stream",
     "text": [
      "KNeighborsClassifier\n",
      "{'p': 2, 'n_neighbors': 5}\n"
     ]
    }
   ],
   "source": [
    "classifiers_results_digits.sort(key=itemgetter('best_score'), reverse=True)\n",
    "print(classifiers_results_digits[0]['name'])\n",
    "print(classifiers_results_digits[0]['grid_search'].best_params_)"
   ]
  },
  {
   "cell_type": "markdown",
   "metadata": {
    "ExecuteTime": {
     "end_time": "2016-04-10T23:16:14.238987",
     "start_time": "2016-04-10T23:16:14.235254"
    }
   },
   "source": [
    "### Results comparison for both datasets"
   ]
  },
  {
   "cell_type": "code",
   "execution_count": 24,
   "metadata": {
    "ExecuteTime": {
     "end_time": "2016-04-11T17:52:18.086572",
     "start_time": "2016-04-11T17:52:18.003849"
    },
    "collapsed": false
   },
   "outputs": [
    {
     "data": {
      "text/html": [
       "<div>\n",
       "<table border=\"1\" class=\"dataframe\">\n",
       "  <thead>\n",
       "    <tr style=\"text-align: right;\">\n",
       "      <th></th>\n",
       "      <th>Iris</th>\n",
       "      <th>best_score</th>\n",
       "      <th>Digits</th>\n",
       "      <th>best_score</th>\n",
       "    </tr>\n",
       "  </thead>\n",
       "  <tbody>\n",
       "    <tr>\n",
       "      <th>0</th>\n",
       "      <td>KNeighborsClassifier</td>\n",
       "      <td>0.986667</td>\n",
       "      <td>KNeighborsClassifier</td>\n",
       "      <td>0.988889</td>\n",
       "    </tr>\n",
       "    <tr>\n",
       "      <th>1</th>\n",
       "      <td>SVC</td>\n",
       "      <td>0.980000</td>\n",
       "      <td>SVC</td>\n",
       "      <td>0.980556</td>\n",
       "    </tr>\n",
       "    <tr>\n",
       "      <th>2</th>\n",
       "      <td>LinearSVC</td>\n",
       "      <td>0.973333</td>\n",
       "      <td>ExtraTreesClassifier</td>\n",
       "      <td>0.979167</td>\n",
       "    </tr>\n",
       "    <tr>\n",
       "      <th>3</th>\n",
       "      <td>LogisticRegression</td>\n",
       "      <td>0.973333</td>\n",
       "      <td>LogisticRegression</td>\n",
       "      <td>0.976389</td>\n",
       "    </tr>\n",
       "    <tr>\n",
       "      <th>4</th>\n",
       "      <td>ExtraTreesClassifier</td>\n",
       "      <td>0.966667</td>\n",
       "      <td>LinearSVC</td>\n",
       "      <td>0.973611</td>\n",
       "    </tr>\n",
       "    <tr>\n",
       "      <th>5</th>\n",
       "      <td>RandomForestClassifier</td>\n",
       "      <td>0.966667</td>\n",
       "      <td>RandomForestClassifier</td>\n",
       "      <td>0.972222</td>\n",
       "    </tr>\n",
       "  </tbody>\n",
       "</table>\n",
       "</div>"
      ],
      "text/plain": [
       "                     Iris  best_score                  Digits  best_score\n",
       "0    KNeighborsClassifier    0.986667    KNeighborsClassifier    0.988889\n",
       "1                     SVC    0.980000                     SVC    0.980556\n",
       "2               LinearSVC    0.973333    ExtraTreesClassifier    0.979167\n",
       "3      LogisticRegression    0.973333      LogisticRegression    0.976389\n",
       "4    ExtraTreesClassifier    0.966667               LinearSVC    0.973611\n",
       "5  RandomForestClassifier    0.966667  RandomForestClassifier    0.972222"
      ]
     },
     "execution_count": 24,
     "metadata": {},
     "output_type": "execute_result"
    }
   ],
   "source": [
    "iris_results_df = pd.DataFrame([[result['name'], result['best_score']] for result in classifiers_results_iris],\n",
    "                              columns=['Iris', 'best_score'])\n",
    "digits_results_df = pd.DataFrame([[result['name'], result['best_score']] for result in classifiers_results_digits],\n",
    "                                columns=['Digits', 'best_score'])\n",
    "pd.concat([iris_results_df, digits_results_df], axis=1)"
   ]
  },
  {
   "cell_type": "markdown",
   "metadata": {},
   "source": [
    "### Classification report"
   ]
  },
  {
   "cell_type": "code",
   "execution_count": 25,
   "metadata": {
    "ExecuteTime": {
     "end_time": "2016-04-11T17:52:18.092806",
     "start_time": "2016-04-11T17:52:18.088870"
    },
    "collapsed": false
   },
   "outputs": [],
   "source": [
    "X, y = iris_dataset['data'], iris_dataset['target']\n",
    "sss = cross_validation.StratifiedShuffleSplit(y, 1)"
   ]
  },
  {
   "cell_type": "code",
   "execution_count": 26,
   "metadata": {
    "ExecuteTime": {
     "end_time": "2016-04-11T17:52:18.098879",
     "start_time": "2016-04-11T17:52:18.094862"
    },
    "collapsed": true
   },
   "outputs": [],
   "source": [
    "train_idx, test_idx = list(sss)[0]\n",
    "X_train, X_test = X[train_idx], X[test_idx]\n",
    "y_train, y_test = y[train_idx], y[test_idx]"
   ]
  },
  {
   "cell_type": "code",
   "execution_count": 27,
   "metadata": {
    "ExecuteTime": {
     "end_time": "2016-04-11T17:52:18.104260",
     "start_time": "2016-04-11T17:52:18.100661"
    },
    "collapsed": true
   },
   "outputs": [],
   "source": [
    "y_pred = classifiers_results_iris[0]['grid_search'].predict(X_test)"
   ]
  },
  {
   "cell_type": "code",
   "execution_count": 28,
   "metadata": {
    "ExecuteTime": {
     "end_time": "2016-04-11T17:52:18.110484",
     "start_time": "2016-04-11T17:52:18.106117"
    },
    "collapsed": false
   },
   "outputs": [
    {
     "name": "stdout",
     "output_type": "stream",
     "text": [
      "             precision    recall  f1-score   support\n",
      "\n",
      "          0       1.00      1.00      1.00         5\n",
      "          1       1.00      1.00      1.00         5\n",
      "          2       1.00      1.00      1.00         5\n",
      "\n",
      "avg / total       1.00      1.00      1.00        15\n",
      "\n"
     ]
    }
   ],
   "source": [
    "print(metrics.classification_report(y_test, y_pred))"
   ]
  }
 ],
 "metadata": {
  "hide_input": false,
  "kernelspec": {
   "display_name": "Python 3",
   "language": "python",
   "name": "python3"
  },
  "language_info": {
   "codemirror_mode": {
    "name": "ipython",
    "version": 3
   },
   "file_extension": ".py",
   "mimetype": "text/x-python",
   "name": "python",
   "nbconvert_exporter": "python",
   "pygments_lexer": "ipython3",
   "version": "3.4.3+"
  },
  "notify_time": "30",
  "toc": {
   "toc_cell": true,
   "toc_number_sections": true,
   "toc_section_display": "block",
   "toc_threshold": 6,
   "toc_window_display": true
  },
  "toc_position": {
   "height": "631px",
   "left": "1578px",
   "right": "49px",
   "top": "144px",
   "width": "228px"
  }
 },
 "nbformat": 4,
 "nbformat_minor": 0
}
